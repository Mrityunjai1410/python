{
  "nbformat": 4,
  "nbformat_minor": 0,
  "metadata": {
    "colab": {
      "name": "TCS.iON~Mrityunjai.ipynb",
      "provenance": [],
      "collapsed_sections": [],
      "authorship_tag": "ABX9TyMZXbrZkIH4ko9fu+AM/Ecb",
      "include_colab_link": true
    },
    "kernelspec": {
      "name": "python3",
      "display_name": "Python 3"
    }
  },
  "cells": [
    {
      "cell_type": "markdown",
      "metadata": {
        "id": "view-in-github",
        "colab_type": "text"
      },
      "source": [
        "<a href=\"https://colab.research.google.com/github/Mrityunjai1410/python/blob/master/TCS_iON~Mrityunjai.ipynb\" target=\"_parent\"><img src=\"https://colab.research.google.com/assets/colab-badge.svg\" alt=\"Open In Colab\"/></a>"
      ]
    },
    {
      "cell_type": "code",
      "metadata": {
        "id": "mtVcnuTZtCTc"
      },
      "source": [
        "!sudo add-apt-repository ppa:alex-p/tesseract-ocr"
      ],
      "execution_count": null,
      "outputs": []
    },
    {
      "cell_type": "markdown",
      "metadata": {
        "id": "6yo2saBjtWev"
      },
      "source": [
        "The Tesseract OCR engine was one of the top 3 engines in the 1995\n",
        " UNLV Accuracy test. Between 1995 and 2006 it had little work done on\n",
        " it, but since then it has been improved extensively by Google and is\n",
        " probably one of the most accurate open source OCR engines\n",
        " available. It can read a wide variety of image formats and convert\n",
        " them to text in over 40 languages. This package includes the command\n",
        " line tool.\n",
        " More info: https://launchpad.net/~alex-p/+archive/ubuntu/tesseract-ocr\n",
        "Press [ENTER] to continue or Ctrl-c to cancel adding it.\n",
        "\n",
        "Hit:1 http://ppa.launchpad.net/alex-p/tesseract-ocr/ubuntu bionic InRelease\n",
        "Hit:2 http://security.ubuntu.com/ubuntu bionic-security InRelease\n",
        "Hit:3 http://archive.ubuntu.com/ubuntu bionic InRelease\n",
        "Hit:4 https://cloud.r-project.org/bin/linux/ubuntu bionic-cran35/ InRelease\n",
        "Hit:5 http://ppa.launchpad.net/graphics-drivers/ppa/ubuntu bionic InRelease\n",
        "Hit:6 http://archive.ubuntu.com/ubuntu bionic-updates InRelease\n",
        "Hit:7 http://archive.ubuntu.com/ubuntu bionic-backports InRelease\n",
        "Hit:8 http://ppa.launchpad.net/marutter/c2d4u3.5/ubuntu bionic InRelease\n",
        "Ign:9 https://developer.download.nvidia.com/compute/cuda/repos/ubuntu1804/x86_64  InRelease\n",
        "Ign:10 https://developer.download.nvidia.com/compute/machine-learning/repos/ubuntu1804/x86_64  InRelease\n",
        "Hit:11 https://developer.download.nvidia.com/compute/cuda/repos/ubuntu1804/x86_64  Release\n",
        "Hit:12 https://developer.download.nvidia.com/compute/machine-learning/repos/ubuntu1804/x86_64  Release\n",
        "Reading package lists... Done"
      ]
    },
    {
      "cell_type": "code",
      "metadata": {
        "id": "sszNQJt9tV_K"
      },
      "source": [
        "!sudo apt-get update"
      ],
      "execution_count": null,
      "outputs": []
    },
    {
      "cell_type": "markdown",
      "metadata": {
        "id": "Tj8ZkA8xtxHr"
      },
      "source": [
        "Hit:1 http://ppa.launchpad.net/alex-p/tesseract-ocr/ubuntu bionic InRelease\n",
        "Hit:2 http://archive.ubuntu.com/ubuntu bionic InRelease\n",
        "Hit:3 http://archive.ubuntu.com/ubuntu bionic-updates InRelease\n",
        "Hit:4 http://ppa.launchpad.net/graphics-drivers/ppa/ubuntu bionic InRelease\n",
        "Hit:5 https://cloud.r-project.org/bin/linux/ubuntu bionic-cran35/ InRelease\n",
        "Hit:6 http://archive.ubuntu.com/ubuntu bionic-backports InRelease\n",
        "Hit:7 http://ppa.launchpad.net/marutter/c2d4u3.5/ubuntu bionic InRelease\n",
        "Hit:8 http://security.ubuntu.com/ubuntu bionic-security InRelease\n",
        "Ign:9 https://developer.download.nvidia.com/compute/cuda/repos/ubuntu1804/x86_64  InRelease\n",
        "Ign:10 https://developer.download.nvidia.com/compute/machine-learning/repos/ubuntu1804/x86_64  InRelease\n",
        "Hit:11 https://developer.download.nvidia.com/compute/cuda/repos/ubuntu1804/x86_64  Release\n",
        "Hit:12 https://developer.download.nvidia.com/compute/machine-learning/repos/ubuntu1804/x86_64  Release\n",
        "Reading package lists... Done"
      ]
    },
    {
      "cell_type": "code",
      "metadata": {
        "id": "SqiowK64t1HU"
      },
      "source": [
        "!sudo apt install tesseract-ocr"
      ],
      "execution_count": null,
      "outputs": []
    },
    {
      "cell_type": "markdown",
      "metadata": {
        "id": "KVFrjvHqt5fD"
      },
      "source": [
        "Reading package lists... Done\n",
        "Building dependency tree       \n",
        "Reading state information... Done\n",
        "tesseract-ocr is already the newest version (4.1.1+git4247-97079fa3-1ppa1~bionic1).\n",
        "The following package was automatically installed and is no longer required:\n",
        "  libnvidia-common-440\n",
        "Use 'sudo apt autoremove' to remove it.\n",
        "0 upgraded, 0 newly installed, 0 to remove and 114 not upgraded."
      ]
    },
    {
      "cell_type": "code",
      "metadata": {
        "id": "oGbuGPgNt7zD"
      },
      "source": [
        "!sudo pip install pytesseract"
      ],
      "execution_count": null,
      "outputs": []
    },
    {
      "cell_type": "markdown",
      "metadata": {
        "id": "qOG3qjdet-1H"
      },
      "source": [
        "Requirement already satisfied: pytesseract in /usr/local/lib/python3.6/dist-packages (0.3.4)\n",
        "Requirement already satisfied: Pillow in /usr/local/lib/python3.6/dist-packages (from pytesseract) (7.0.0)"
      ]
    },
    {
      "cell_type": "code",
      "metadata": {
        "id": "ZSLMa20buCXP"
      },
      "source": [
        "#Checking the installation.\n",
        "!tesseract --version"
      ],
      "execution_count": null,
      "outputs": []
    },
    {
      "cell_type": "markdown",
      "metadata": {
        "id": "bekwwUVJuFAL"
      },
      "source": [
        "tesseract 4.1.1-rc2-25-g9707\n",
        " leptonica-1.78.0\n",
        "  libgif 5.1.4 : libjpeg 8d (libjpeg-turbo 1.5.2) : libpng 1.6.34 : libtiff 4.0.9 : zlib 1.2.11 : libwebp 0.6.1 : libopenjp2 2.3.0\n",
        " Found AVX512BW\n",
        " Found AVX512F\n",
        " Found AVX2\n",
        " Found AVX\n",
        " Found FMA\n",
        " Found SSE\n",
        " Found libarchive 3.2.2 zlib/1.2.11 liblzma/5.2.2 bz2lib/1.0.6 liblz4/1.7.1"
      ]
    },
    {
      "cell_type": "code",
      "metadata": {
        "id": "k9mDkW_5uHHH"
      },
      "source": [
        "#Image Source Input Module \n",
        "from google.colab import drive\n",
        "drive.mount('/content/drive',force_remount=True)\n",
        "\n",
        "filename = ('/content/drive/My Drive/image1.jpg')"
      ],
      "execution_count": null,
      "outputs": []
    },
    {
      "cell_type": "markdown",
      "metadata": {
        "id": "1aGrjsesuKMo"
      },
      "source": [
        "Mounted at /content/drive"
      ]
    },
    {
      "cell_type": "code",
      "metadata": {
        "id": "PDddgG5cuMUP",
        "outputId": "4ac684d8-75e8-4dd3-e0f2-f9aa21180854",
        "colab": {
          "base_uri": "https://localhost:8080/",
          "height": 363
        }
      },
      "source": [
        "import cv2\n",
        "import numpy as np\n",
        "import pytesseract\n",
        "from PIL import Image\n",
        "\n",
        "# Path of working folder on Disk\n",
        "\n",
        "def get_string(img_path):\n",
        "    # Read image with opencv\n",
        "    img = cv2.imread(img_path)\n",
        "\n",
        "    # Convert to gray\n",
        "    img = cv2.cvtColor(img, cv2.COLOR_BGR2GRAY)\n",
        "\n",
        "    # Apply dilation and erosion to remove some noise\n",
        "    kernel = np.ones((1, 1), np.uint8)\n",
        "    img = cv2.dilate(img, kernel, iterations=1)\n",
        "    img = cv2.erode(img, kernel, iterations=1)\n",
        "\n",
        "    # Write image after removed noise\n",
        "    cv2.imwrite(\"removed_noise.png\", img)\n",
        "\n",
        "    #  Apply threshold to get image with only black and white\n",
        "    \n",
        "\n",
        "    # Write the image after apply opencv to do some ...\n",
        "    cv2.imwrite(img_path, img)\n",
        "\n",
        "    # Recognize text with tesseract for python\n",
        "    result = pytesseract.image_to_string(Image.open(img_path))\n",
        "\n",
        "    # Remove template file\n",
        "    \n",
        "\n",
        "    return result\n",
        "print (\"_____The Recognization Process Of Text From The Input Image Started Successfully______\")\n",
        "print (\"The Recognized Text From The Input Image IS:\")\n",
        "print (get_string(filename))    "
      ],
      "execution_count": 1,
      "outputs": [
        {
          "output_type": "error",
          "ename": "ModuleNotFoundError",
          "evalue": "ignored",
          "traceback": [
            "\u001b[0;31m---------------------------------------------------------------------------\u001b[0m",
            "\u001b[0;31mModuleNotFoundError\u001b[0m                       Traceback (most recent call last)",
            "\u001b[0;32m<ipython-input-1-e23670ba1bd5>\u001b[0m in \u001b[0;36m<module>\u001b[0;34m()\u001b[0m\n\u001b[1;32m      1\u001b[0m \u001b[0;32mimport\u001b[0m \u001b[0mcv2\u001b[0m\u001b[0;34m\u001b[0m\u001b[0;34m\u001b[0m\u001b[0m\n\u001b[1;32m      2\u001b[0m \u001b[0;32mimport\u001b[0m \u001b[0mnumpy\u001b[0m \u001b[0;32mas\u001b[0m \u001b[0mnp\u001b[0m\u001b[0;34m\u001b[0m\u001b[0;34m\u001b[0m\u001b[0m\n\u001b[0;32m----> 3\u001b[0;31m \u001b[0;32mimport\u001b[0m \u001b[0mpytesseract\u001b[0m\u001b[0;34m\u001b[0m\u001b[0;34m\u001b[0m\u001b[0m\n\u001b[0m\u001b[1;32m      4\u001b[0m \u001b[0;32mfrom\u001b[0m \u001b[0mPIL\u001b[0m \u001b[0;32mimport\u001b[0m \u001b[0mImage\u001b[0m\u001b[0;34m\u001b[0m\u001b[0;34m\u001b[0m\u001b[0m\n\u001b[1;32m      5\u001b[0m \u001b[0;34m\u001b[0m\u001b[0m\n",
            "\u001b[0;31mModuleNotFoundError\u001b[0m: No module named 'pytesseract'",
            "",
            "\u001b[0;31m---------------------------------------------------------------------------\u001b[0;32m\nNOTE: If your import is failing due to a missing package, you can\nmanually install dependencies using either !pip or !apt.\n\nTo view examples of installing some common dependencies, click the\n\"Open Examples\" button below.\n\u001b[0;31m---------------------------------------------------------------------------\u001b[0m\n"
          ]
        }
      ]
    },
    {
      "cell_type": "markdown",
      "metadata": {
        "id": "sHdeed15uPM_"
      },
      "source": [
        "_____The Recognization Process Of Text From The Input Image Started Successfully______\n",
        "The Recognized Text From The Input Image IS:\n",
        "This is a handwritten\n",
        "example\n",
        "\n",
        "Write as qooal as you can,"
      ]
    }
  ]
}